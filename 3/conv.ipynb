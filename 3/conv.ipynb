{
 "cells": [
  {
   "cell_type": "code",
   "execution_count": 3,
   "metadata": {},
   "outputs": [],
   "source": [
    "import pandas as pd\n",
    "from matplotlib import pyplot as plt\n",
    "import random\n",
    "from tqdm import tqdm\n",
    "import numpy as np"
   ]
  },
  {
   "cell_type": "code",
   "execution_count": 4,
   "metadata": {
    "scrolled": true
   },
   "outputs": [
    {
     "name": "stdout",
     "output_type": "stream",
     "text": [
      "[[[1. 1. 1. 0.]\n",
      "  [1. 1. 1. 0.]\n",
      "  [1. 1. 1. 0.]\n",
      "  ...\n",
      "  [1. 1. 1. 0.]\n",
      "  [1. 1. 1. 0.]\n",
      "  [1. 1. 1. 0.]]\n",
      "\n",
      " [[1. 1. 1. 0.]\n",
      "  [1. 1. 1. 0.]\n",
      "  [1. 1. 1. 0.]\n",
      "  ...\n",
      "  [1. 1. 1. 0.]\n",
      "  [1. 1. 1. 0.]\n",
      "  [1. 1. 1. 0.]]\n",
      "\n",
      " [[1. 1. 1. 0.]\n",
      "  [1. 1. 1. 0.]\n",
      "  [1. 1. 1. 0.]\n",
      "  ...\n",
      "  [1. 1. 1. 0.]\n",
      "  [1. 1. 1. 0.]\n",
      "  [1. 1. 1. 0.]]\n",
      "\n",
      " ...\n",
      "\n",
      " [[1. 1. 1. 0.]\n",
      "  [1. 1. 1. 0.]\n",
      "  [1. 1. 1. 0.]\n",
      "  ...\n",
      "  [1. 1. 1. 0.]\n",
      "  [1. 1. 1. 0.]\n",
      "  [1. 1. 1. 0.]]\n",
      "\n",
      " [[1. 1. 1. 0.]\n",
      "  [1. 1. 1. 0.]\n",
      "  [1. 1. 1. 0.]\n",
      "  ...\n",
      "  [1. 1. 1. 0.]\n",
      "  [1. 1. 1. 0.]\n",
      "  [1. 1. 1. 0.]]\n",
      "\n",
      " [[1. 1. 1. 0.]\n",
      "  [1. 1. 1. 0.]\n",
      "  [1. 1. 1. 0.]\n",
      "  ...\n",
      "  [1. 1. 1. 0.]\n",
      "  [1. 1. 1. 0.]\n",
      "  [1. 1. 1. 0.]]]\n"
     ]
    },
    {
     "data": {
      "text/plain": "<Figure size 432x288 with 1 Axes>",
      "image/png": "[encoded data removed]"
     },
     "metadata": {
      "needs_background": "light"
     },
     "output_type": "display_data"
    }
   ],
   "source": [
    "img = plt.imread('5.png')\n",
    "print(img)\n",
    "plt.imshow(img)\n",
    "plt.show()"
   ]
  },
  {
   "cell_type": "code",
   "execution_count": 5,
   "metadata": {},
   "outputs": [],
   "source": [
    "from PIL import Image "
   ]
  },
  {
   "cell_type": "raw",
   "metadata": {},
   "source": []
  },
  {
   "cell_type": "code",
   "execution_count": 6,
   "metadata": {},
   "outputs": [
    {
     "name": "stdout",
     "output_type": "stream",
     "text": [
      "288\n",
      "432\n",
      "4\n",
      "[[[255 255 255   0]\n",
      "  [255 255 255   0]\n",
      "  [255 255 255   0]\n",
      "  ...\n",
      "  [255 255 255   0]\n",
      "  [255 255 255   0]\n",
      "  [255 255 255   0]]\n",
      "\n",
      " [[255 255 255   0]\n",
      "  [255 255 255   0]\n",
      "  [255 255 255   0]\n",
      "  ...\n",
      "  [255 255 255   0]\n",
      "  [255 255 255   0]\n",
      "  [255 255 255   0]]\n",
      "\n",
      " [[255 255 255   0]\n",
      "  [255 255 255   0]\n",
      "  [255 255 255   0]\n",
      "  ...\n",
      "  [255 255 255   0]\n",
      "  [255 255 255   0]\n",
      "  [255 255 255   0]]\n",
      "\n",
      " ...\n",
      "\n",
      " [[255 255 255   0]\n",
      "  [255 255 255   0]\n",
      "  [255 255 255   0]\n",
      "  ...\n",
      "  [255 255 255   0]\n",
      "  [255 255 255   0]\n",
      "  [255 255 255   0]]\n",
      "\n",
      " [[255 255 255   0]\n",
      "  [255 255 255   0]\n",
      "  [255 255 255   0]\n",
      "  ...\n",
      "  [255 255 255   0]\n",
      "  [255 255 255   0]\n",
      "  [255 255 255   0]]\n",
      "\n",
      " [[255 255 255   0]\n",
      "  [255 255 255   0]\n",
      "  [255 255 255   0]\n",
      "  ...\n",
      "  [255 255 255   0]\n",
      "  [255 255 255   0]\n",
      "  [255 255 255   0]]]\n"
     ]
    }
   ],
   "source": [
    "img = Image.open('5.png')\n",
    "arr = np.array(img)\n",
    "#print(arr)\n",
    "rows,cols,colors = arr.shape\n",
    "print(rows)\n",
    "print(cols)\n",
    "print(colors)\n",
    "print(arr)"
   ]
  },
  {
   "cell_type": "code",
   "execution_count": 7,
   "metadata": {},
   "outputs": [],
   "source": [
    "#кубик A\n",
    "\n",
    "A=np.zeros([3,3,3],dtype=np.uint32)\n",
    "#for k in range(3):\n",
    "A[0,0,1]=10\n",
    "A[1,0,1]=100\n",
    "A[2,1,1]=10\n",
    "A[0,2,1]=10\n",
    "A[1,2,1]=10\n"
   ]
  },
  {
   "cell_type": "code",
   "execution_count": 8,
   "metadata": {},
   "outputs": [],
   "source": [
    "# массив - результат\n",
    "B=np.zeros([rows-2,cols-2,colors-1],dtype=np.uint32)\n",
    "C=np.zeros([rows-2,cols-2,colors-1],dtype=np.uint8)"
   ]
  },
  {
   "cell_type": "code",
   "execution_count": 9,
   "metadata": {},
   "outputs": [],
   "source": [
    "#!!! изменить это\n",
    "for i in range(rows-2):\n",
    "    for j in range(cols-2):\n",
    "        # Умножаем кубик на фрагмент тензора (свёртываем)\n",
    "        for k in range(3): # компоненты RGB\n",
    "            for m in range(3):\n",
    "                for n in range(3):\n",
    "                    B[i,j,k] = B[i,j,k] + arr[i+m][j+n][k]*A[m,n,k];\n",
    "            B[i,j,k] = B[i,j,k] / 9\n",
    "            "
   ]
  },
  {
   "cell_type": "code",
   "execution_count": 10,
   "metadata": {},
   "outputs": [],
   "source": [
    "for i in range(rows-2):\n",
    "    for j in range(cols-2):\n",
    "        for k in range(3):\n",
    "            C[i][j][k]=np.uint8(B[i][j][k])\n",
    "\n",
    "result_img = Image.fromarray(C)\n",
    "result_img.save('6.png')\n",
    "result_img.show()"
   ]
  },
  {
   "cell_type": "code",
   "execution_count": 10,
   "metadata": {},
   "outputs": [],
   "source": []
  },
  {
   "cell_type": "code",
   "execution_count": 10,
   "metadata": {},
   "outputs": [],
   "source": []
  }
 ],
 "metadata": {
  "kernelspec": {
   "display_name": "Python 3",
   "language": "python",
   "name": "python3"
  },
  "language_info": {
   "codemirror_mode": {
    "name": "ipython",
    "version": 3
   },
   "file_extension": ".py",
   "mimetype": "text/x-python",
   "name": "python",
   "nbconvert_exporter": "python",
   "pygments_lexer": "ipython3",
   "version": "3.7.6"
  }
 },
 "nbformat": 4,
 "nbformat_minor": 4
}