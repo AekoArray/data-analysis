{
 "cells": [
  {
   "cell_type": "code",
   "execution_count": 101,
   "metadata": {},
   "outputs": [],
   "source": [
    "import pandas as pd\n",
    "from matplotlib import pyplot as plt\n",
    "import random\n",
    "from tqdm import tqdm\n",
    "import numpy as np"
   ]
  },
  {
   "cell_type": "code",
   "execution_count": 102,
   "metadata": {},
   "outputs": [],
   "source": [
    "def least_squares(x, y):\n",
    "    sr = []\n",
    "    for k in range(len(x)):\n",
    "        sr.append(x[k] * y[k])\n",
    "    sqr = [a * a for a in x]\n",
    "    x_mean = np.mean(x)\n",
    "    y_mean = np.mean(y)\n",
    "    a = (np.mean(sr) - x_mean * y_mean) / (np.mean(sqr) - x_mean * x_mean)\n",
    "    return a"
   ]
  },
  {
   "cell_type": "code",
   "execution_count": 103,
   "metadata": {},
   "outputs": [],
   "source": [
    "def get_type(x_sample, y_sample):\n",
    "    trend = least_squares(x_sample, y_sample)\n",
    "    if trend < -0.07:\n",
    "        return 'descending'\n",
    "    elif trend > 0.07:\n",
    "        return 'ascending'\n",
    "    else:\n",
    "        return 'peripheral'"
   ]
  },
  {
   "cell_type": "code",
   "execution_count": 104,
   "metadata": {},
   "outputs": [
    {
     "ename": "TypeError",
     "evalue": "copy() takes no arguments (1 given)",
     "output_type": "error",
     "traceback": [
      "\u001B[1;31m---------------------------------------------------------------------------\u001B[0m",
      "\u001B[1;31mTypeError\u001B[0m                                 Traceback (most recent call last)",
      "\u001B[1;32m<ipython-input-104-eb077ed0e2ef>\u001B[0m in \u001B[0;36m<module>\u001B[1;34m\u001B[0m\n\u001B[0;32m      6\u001B[0m \u001B[0mdata\u001B[0m \u001B[1;33m=\u001B[0m \u001B[0mall_data\u001B[0m\u001B[1;33m[\u001B[0m\u001B[1;34m'<CLOSE>'\u001B[0m\u001B[1;33m]\u001B[0m\u001B[1;33m\u001B[0m\u001B[1;33m\u001B[0m\u001B[0m\n\u001B[0;32m      7\u001B[0m \u001B[0my_data\u001B[0m \u001B[1;33m=\u001B[0m \u001B[1;33m[\u001B[0m\u001B[1;33m]\u001B[0m\u001B[1;33m\u001B[0m\u001B[1;33m\u001B[0m\u001B[0m\n\u001B[1;32m----> 8\u001B[1;33m \u001B[0my_data\u001B[0m\u001B[1;33m.\u001B[0m\u001B[0mcopy\u001B[0m\u001B[1;33m(\u001B[0m\u001B[0mdata\u001B[0m\u001B[1;33m)\u001B[0m\u001B[1;33m\u001B[0m\u001B[1;33m\u001B[0m\u001B[0m\n\u001B[0m\u001B[0;32m      9\u001B[0m \u001B[1;31m# y_data = [random.randint(start, stop) for iter in range(limit)]\u001B[0m\u001B[1;33m\u001B[0m\u001B[1;33m\u001B[0m\u001B[1;33m\u001B[0m\u001B[0m\n\u001B[0;32m     10\u001B[0m \u001B[1;33m\u001B[0m\u001B[0m\n",
      "\u001B[1;31mTypeError\u001B[0m: copy() takes no arguments (1 given)"
     ]
    }
   ],
   "source": [
    "start = 1\n",
    "stop = 100\n",
    "limit = 500\n",
    "x_data = list(range(limit))\n",
    "all_data = pd.read_csv(\"data.csv\", nrows=limit)\n",
    "data = all_data['<CLOSE>']\n",
    "y_data = []\n",
    "for i in range(limit):\n",
    "    y_data.append(data[i])\n",
    "# y_data = [random.randint(start, stop) for iter in range(limit)]"
   ]
  },
  {
   "cell_type": "code",
   "execution_count": null,
   "metadata": {},
   "outputs": [],
   "source": [
    "for i in tqdm(range(limit - 15)):\n",
    "    crv_type = get_type(x_data[i+10:i+15], y_data[i+10:i+15])\n",
    "    fig, ax = plt.subplots( nrows=1, ncols=1 )\n",
    "    ax.plot(x_data[i:i+10], y_data[i:i+10], 'r')\n",
    "    fig.savefig('{}/img_{}.png'.format(crv_type, i))\n",
    "    plt.close(fig)"
   ]
  },
  {
   "cell_type": "code",
   "execution_count": null,
   "metadata": {
    "pycharm": {
     "name": "#%%\n"
    }
   },
   "outputs": [],
   "source": []
  }
 ],
 "metadata": {
  "kernelspec": {
   "display_name": "Python 3",
   "language": "python",
   "name": "python3"
  },
  "language_info": {
   "codemirror_mode": {
    "name": "ipython",
    "version": 3
   },
   "file_extension": ".py",
   "mimetype": "text/x-python",
   "name": "python",
   "nbconvert_exporter": "python",
   "pygments_lexer": "ipython3",
   "version": "3.6.8"
  }
 },
 "nbformat": 4,
 "nbformat_minor": 2
}